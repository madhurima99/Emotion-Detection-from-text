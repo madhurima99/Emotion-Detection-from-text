{
  "nbformat": 4,
  "nbformat_minor": 5,
  "metadata": {
    "kernelspec": {
      "display_name": "Python 3",
      "language": "python",
      "name": "python3"
    },
    "language_info": {
      "codemirror_mode": {
        "name": "ipython",
        "version": 3
      },
      "file_extension": ".py",
      "mimetype": "text/x-python",
      "name": "python",
      "nbconvert_exporter": "python",
      "pygments_lexer": "ipython3",
      "version": "3.7.10"
    },
    "papermill": {
      "default_parameters": {},
      "duration": 144.870077,
      "end_time": "2021-10-15T04:38:40.121042",
      "environment_variables": {},
      "exception": null,
      "input_path": "__notebook__.ipynb",
      "output_path": "__notebook__.ipynb",
      "parameters": {},
      "start_time": "2021-10-15T04:36:15.250965",
      "version": "2.3.3"
    },
    "colab": {
      "name": "Emotion-Detection.ipynb",
      "provenance": [],
      "collapsed_sections": []
    },
    "accelerator": "GPU"
  },
  "cells": [
    {
      "cell_type": "markdown",
      "metadata": {
        "id": "7oi1G-UXRGvR"
      },
      "source": [
        "## Import Dataset"
      ],
      "id": "7oi1G-UXRGvR"
    },
    {
      "cell_type": "code",
      "metadata": {
        "id": "fahcqLTiQ-Xl"
      },
      "source": [
        "! mkdir ~/.kaggle"
      ],
      "id": "fahcqLTiQ-Xl",
      "execution_count": null,
      "outputs": []
    },
    {
      "cell_type": "code",
      "metadata": {
        "id": "yMTJiX3FRMMB"
      },
      "source": [
        "! cp kaggle.json ~/.kaggle/"
      ],
      "id": "yMTJiX3FRMMB",
      "execution_count": null,
      "outputs": []
    },
    {
      "cell_type": "code",
      "metadata": {
        "id": "zfu8ZveZRQHr"
      },
      "source": [
        "! chmod 600 ~/.kaggle/kaggle.json"
      ],
      "id": "zfu8ZveZRQHr",
      "execution_count": null,
      "outputs": []
    },
    {
      "cell_type": "code",
      "metadata": {
        "colab": {
          "base_uri": "https://localhost:8080/"
        },
        "id": "ytMvMe4sRP86",
        "outputId": "4c568aa4-5728-4ccb-ae16-6c9eac2fd11c"
      },
      "source": [
        "! kaggle datasets download -d parulpandey/emotion-dataset"
      ],
      "id": "ytMvMe4sRP86",
      "execution_count": null,
      "outputs": [
        {
          "output_type": "stream",
          "name": "stdout",
          "text": [
            "Downloading emotion-dataset.zip to /content\n",
            "\r  0% 0.00/715k [00:00<?, ?B/s]\n",
            "\r100% 715k/715k [00:00<00:00, 46.0MB/s]\n"
          ]
        }
      ]
    },
    {
      "cell_type": "code",
      "metadata": {
        "colab": {
          "base_uri": "https://localhost:8080/"
        },
        "id": "Q26pb8TTRPzG",
        "outputId": "31d724e6-3f0d-4764-cd2a-c58035bcd69b"
      },
      "source": [
        "! unzip /content/emotion-dataset.zip"
      ],
      "id": "Q26pb8TTRPzG",
      "execution_count": null,
      "outputs": [
        {
          "output_type": "stream",
          "name": "stdout",
          "text": [
            "Archive:  /content/emotion-dataset.zip\n",
            "  inflating: test.csv                \n",
            "  inflating: training.csv            \n",
            "  inflating: validation.csv          \n"
          ]
        }
      ]
    },
    {
      "cell_type": "markdown",
      "metadata": {
        "id": "hzY0-GjfSx_S"
      },
      "source": [
        "## Import necessary libraries"
      ],
      "id": "hzY0-GjfSx_S"
    },
    {
      "cell_type": "code",
      "metadata": {
        "_cell_guid": "b1076dfc-b9ad-4769-8c92-a6c4dae69d19",
        "_uuid": "8f2839f25d086af736a60e9eeb907d3b93b6e0e5",
        "execution": {
          "iopub.execute_input": "2021-10-15T04:36:22.072250Z",
          "iopub.status.busy": "2021-10-15T04:36:22.071603Z",
          "iopub.status.idle": "2021-10-15T04:36:26.385823Z",
          "shell.execute_reply": "2021-10-15T04:36:26.385242Z",
          "shell.execute_reply.started": "2021-10-15T04:29:29.634070Z"
        },
        "papermill": {
          "duration": 4.412625,
          "end_time": "2021-10-15T04:36:26.385975",
          "exception": false,
          "start_time": "2021-10-15T04:36:21.973350",
          "status": "completed"
        },
        "tags": [],
        "id": "9dc5a527"
      },
      "source": [
        "import numpy as np \n",
        "import pandas as pd \n",
        "import tensorflow as tf\n",
        "from tensorflow.keras.preprocessing.text import Tokenizer\n",
        "from tensorflow.keras.preprocessing.sequence import pad_sequences"
      ],
      "id": "9dc5a527",
      "execution_count": null,
      "outputs": []
    },
    {
      "cell_type": "code",
      "metadata": {
        "execution": {
          "iopub.execute_input": "2021-10-15T04:36:26.423245Z",
          "iopub.status.busy": "2021-10-15T04:36:26.422712Z",
          "iopub.status.idle": "2021-10-15T04:36:26.550773Z",
          "shell.execute_reply": "2021-10-15T04:36:26.549863Z",
          "shell.execute_reply.started": "2021-10-15T04:30:00.335691Z"
        },
        "papermill": {
          "duration": 0.148109,
          "end_time": "2021-10-15T04:36:26.550912",
          "exception": false,
          "start_time": "2021-10-15T04:36:26.402803",
          "status": "completed"
        },
        "tags": [],
        "id": "a09088ab"
      },
      "source": [
        "train = pd.read_csv('/content/training.csv')\n",
        "test = pd.read_csv('/content/test.csv')\n",
        "validation = pd.read_csv('/content/validation.csv')"
      ],
      "id": "a09088ab",
      "execution_count": null,
      "outputs": []
    },
    {
      "cell_type": "code",
      "metadata": {
        "execution": {
          "iopub.execute_input": "2021-10-15T04:36:26.592786Z",
          "iopub.status.busy": "2021-10-15T04:36:26.592098Z",
          "iopub.status.idle": "2021-10-15T04:36:26.613615Z",
          "shell.execute_reply": "2021-10-15T04:36:26.614027Z",
          "shell.execute_reply.started": "2021-10-15T04:30:39.369483Z"
        },
        "papermill": {
          "duration": 0.046324,
          "end_time": "2021-10-15T04:36:26.614167",
          "exception": false,
          "start_time": "2021-10-15T04:36:26.567843",
          "status": "completed"
        },
        "tags": [],
        "colab": {
          "base_uri": "https://localhost:8080/",
          "height": 203
        },
        "id": "60e0af7d",
        "outputId": "1cef07b2-e916-4763-b9b6-82d88b6ecb3b"
      },
      "source": [
        "# as per the dataset description, key-value is mapped with the corresponding emotion\n",
        "\n",
        "labels_dict = {0:'sadness', 1:'joy', 2:'love', 3:'anger', 4:'fear', 5:'surprise'}\n",
        "train['description'] = train['label'].map(labels_dict )\n",
        "train.head()"
      ],
      "id": "60e0af7d",
      "execution_count": null,
      "outputs": [
        {
          "output_type": "execute_result",
          "data": {
            "text/html": [
              "<div>\n",
              "<style scoped>\n",
              "    .dataframe tbody tr th:only-of-type {\n",
              "        vertical-align: middle;\n",
              "    }\n",
              "\n",
              "    .dataframe tbody tr th {\n",
              "        vertical-align: top;\n",
              "    }\n",
              "\n",
              "    .dataframe thead th {\n",
              "        text-align: right;\n",
              "    }\n",
              "</style>\n",
              "<table border=\"1\" class=\"dataframe\">\n",
              "  <thead>\n",
              "    <tr style=\"text-align: right;\">\n",
              "      <th></th>\n",
              "      <th>text</th>\n",
              "      <th>label</th>\n",
              "      <th>description</th>\n",
              "    </tr>\n",
              "  </thead>\n",
              "  <tbody>\n",
              "    <tr>\n",
              "      <th>0</th>\n",
              "      <td>i didnt feel humiliated</td>\n",
              "      <td>0</td>\n",
              "      <td>sadness</td>\n",
              "    </tr>\n",
              "    <tr>\n",
              "      <th>1</th>\n",
              "      <td>i can go from feeling so hopeless to so damned...</td>\n",
              "      <td>0</td>\n",
              "      <td>sadness</td>\n",
              "    </tr>\n",
              "    <tr>\n",
              "      <th>2</th>\n",
              "      <td>im grabbing a minute to post i feel greedy wrong</td>\n",
              "      <td>3</td>\n",
              "      <td>anger</td>\n",
              "    </tr>\n",
              "    <tr>\n",
              "      <th>3</th>\n",
              "      <td>i am ever feeling nostalgic about the fireplac...</td>\n",
              "      <td>2</td>\n",
              "      <td>love</td>\n",
              "    </tr>\n",
              "    <tr>\n",
              "      <th>4</th>\n",
              "      <td>i am feeling grouchy</td>\n",
              "      <td>3</td>\n",
              "      <td>anger</td>\n",
              "    </tr>\n",
              "  </tbody>\n",
              "</table>\n",
              "</div>"
            ],
            "text/plain": [
              "                                                text  label description\n",
              "0                            i didnt feel humiliated      0     sadness\n",
              "1  i can go from feeling so hopeless to so damned...      0     sadness\n",
              "2   im grabbing a minute to post i feel greedy wrong      3       anger\n",
              "3  i am ever feeling nostalgic about the fireplac...      2        love\n",
              "4                               i am feeling grouchy      3       anger"
            ]
          },
          "metadata": {},
          "execution_count": 9
        }
      ]
    },
    {
      "cell_type": "markdown",
      "metadata": {
        "papermill": {
          "duration": 0.016236,
          "end_time": "2021-10-15T04:36:26.647357",
          "exception": false,
          "start_time": "2021-10-15T04:36:26.631121",
          "status": "completed"
        },
        "tags": [],
        "id": "0f5281bf"
      },
      "source": [
        "## Preprocessing the text"
      ],
      "id": "0f5281bf"
    },
    {
      "cell_type": "code",
      "metadata": {
        "execution": {
          "iopub.execute_input": "2021-10-15T04:36:26.707839Z",
          "iopub.status.busy": "2021-10-15T04:36:26.697591Z",
          "iopub.status.idle": "2021-10-15T04:36:27.017531Z",
          "shell.execute_reply": "2021-10-15T04:36:27.016907Z",
          "shell.execute_reply.started": "2021-10-15T04:30:58.272948Z"
        },
        "papermill": {
          "duration": 0.353916,
          "end_time": "2021-10-15T04:36:27.017664",
          "exception": false,
          "start_time": "2021-10-15T04:36:26.663748",
          "status": "completed"
        },
        "tags": [],
        "id": "91c55978"
      },
      "source": [
        "train_txt = train.text.values\n",
        "tokenizer = Tokenizer(num_words=5000)\n",
        "tokenizer.fit_on_texts(train_txt)\n",
        "vocab_size = len(tokenizer.word_index) + 1"
      ],
      "id": "91c55978",
      "execution_count": null,
      "outputs": []
    },
    {
      "cell_type": "code",
      "metadata": {
        "execution": {
          "iopub.execute_input": "2021-10-15T04:36:27.057566Z",
          "iopub.status.busy": "2021-10-15T04:36:27.056883Z",
          "iopub.status.idle": "2021-10-15T04:36:27.059233Z",
          "shell.execute_reply": "2021-10-15T04:36:27.059642Z",
          "shell.execute_reply.started": "2021-10-15T04:30:58.981296Z"
        },
        "papermill": {
          "duration": 0.024004,
          "end_time": "2021-10-15T04:36:27.059817",
          "exception": false,
          "start_time": "2021-10-15T04:36:27.035813",
          "status": "completed"
        },
        "tags": [],
        "id": "1d904ec2"
      },
      "source": [
        "def text_encoding(txt):\n",
        "    encoded_docs = tokenizer.texts_to_sequences(txt)\n",
        "    padded_sequence = pad_sequences(encoded_docs, maxlen=128)    \n",
        "       \n",
        "    return padded_sequence"
      ],
      "id": "1d904ec2",
      "execution_count": null,
      "outputs": []
    },
    {
      "cell_type": "code",
      "metadata": {
        "execution": {
          "iopub.execute_input": "2021-10-15T04:36:27.130525Z",
          "iopub.status.busy": "2021-10-15T04:36:27.125150Z",
          "iopub.status.idle": "2021-10-15T04:36:27.582984Z",
          "shell.execute_reply": "2021-10-15T04:36:27.582539Z",
          "shell.execute_reply.started": "2021-10-15T04:31:00.069794Z"
        },
        "papermill": {
          "duration": 0.50695,
          "end_time": "2021-10-15T04:36:27.583131",
          "exception": false,
          "start_time": "2021-10-15T04:36:27.076181",
          "status": "completed"
        },
        "tags": [],
        "id": "6e786534"
      },
      "source": [
        "train_txt = text_encoding(train_txt)\n",
        "test_txt = text_encoding(test['text'])\n",
        "val_txt = text_encoding(validation['text'])"
      ],
      "id": "6e786534",
      "execution_count": null,
      "outputs": []
    },
    {
      "cell_type": "markdown",
      "metadata": {
        "papermill": {
          "duration": 0.016325,
          "end_time": "2021-10-15T04:36:27.616161",
          "exception": false,
          "start_time": "2021-10-15T04:36:27.599836",
          "status": "completed"
        },
        "tags": [],
        "id": "9d857c3a"
      },
      "source": [
        "## Label encoding"
      ],
      "id": "9d857c3a"
    },
    {
      "cell_type": "code",
      "metadata": {
        "execution": {
          "iopub.execute_input": "2021-10-15T04:36:27.653399Z",
          "iopub.status.busy": "2021-10-15T04:36:27.652664Z",
          "iopub.status.idle": "2021-10-15T04:36:27.655182Z",
          "shell.execute_reply": "2021-10-15T04:36:27.654745Z",
          "shell.execute_reply.started": "2021-10-15T04:31:17.045168Z"
        },
        "papermill": {
          "duration": 0.022601,
          "end_time": "2021-10-15T04:36:27.655293",
          "exception": false,
          "start_time": "2021-10-15T04:36:27.632692",
          "status": "completed"
        },
        "tags": [],
        "id": "3e86b03c"
      },
      "source": [
        "def label_encoding(label):\n",
        "    y = tf.keras.utils.to_categorical(label)    \n",
        "    return y"
      ],
      "id": "3e86b03c",
      "execution_count": null,
      "outputs": []
    },
    {
      "cell_type": "code",
      "metadata": {
        "execution": {
          "iopub.execute_input": "2021-10-15T04:36:27.691838Z",
          "iopub.status.busy": "2021-10-15T04:36:27.691350Z",
          "iopub.status.idle": "2021-10-15T04:36:27.695414Z",
          "shell.execute_reply": "2021-10-15T04:36:27.695789Z",
          "shell.execute_reply.started": "2021-10-15T04:31:20.143358Z"
        },
        "papermill": {
          "duration": 0.024142,
          "end_time": "2021-10-15T04:36:27.695911",
          "exception": false,
          "start_time": "2021-10-15T04:36:27.671769",
          "status": "completed"
        },
        "tags": [],
        "id": "1fdc64ea"
      },
      "source": [
        "y_train = label_encoding(train['label'])\n",
        "y_test = label_encoding(test['label'])\n",
        "y_val = label_encoding(validation['label'])"
      ],
      "id": "1fdc64ea",
      "execution_count": null,
      "outputs": []
    },
    {
      "cell_type": "markdown",
      "metadata": {
        "papermill": {
          "duration": 0.016182,
          "end_time": "2021-10-15T04:36:27.728803",
          "exception": false,
          "start_time": "2021-10-15T04:36:27.712621",
          "status": "completed"
        },
        "tags": [],
        "id": "b1f34626"
      },
      "source": [
        "## Building the model"
      ],
      "id": "b1f34626"
    },
    {
      "cell_type": "code",
      "metadata": {
        "execution": {
          "iopub.execute_input": "2021-10-15T04:36:27.767657Z",
          "iopub.status.busy": "2021-10-15T04:36:27.767156Z",
          "iopub.status.idle": "2021-10-15T04:36:30.541347Z",
          "shell.execute_reply": "2021-10-15T04:36:30.540357Z",
          "shell.execute_reply.started": "2021-10-15T04:33:56.719549Z"
        },
        "papermill": {
          "duration": 2.796188,
          "end_time": "2021-10-15T04:36:30.541480",
          "exception": false,
          "start_time": "2021-10-15T04:36:27.745292",
          "status": "completed"
        },
        "tags": [],
        "id": "010d4f15"
      },
      "source": [
        "model = tf.keras.Sequential()\n",
        "model.add(tf.keras.layers.Embedding(vocab_size, 128))\n",
        "model.add(tf.keras.layers.Bidirectional(tf.keras.layers.LSTM(128, return_sequences=True)))\n",
        "model.add(tf.keras.layers.Bidirectional(tf.keras.layers.LSTM(64)))\n",
        "model.add(tf.keras.layers.Dropout(0.2))\n",
        "model.add(tf.keras.layers.Dense(64, activation='relu'))\n",
        "model.add(tf.keras.layers.Dropout(0.2))\n",
        "model.add(tf.keras.layers.Dense(6, activation='softmax'))"
      ],
      "id": "010d4f15",
      "execution_count": null,
      "outputs": []
    },
    {
      "cell_type": "code",
      "metadata": {
        "execution": {
          "iopub.execute_input": "2021-10-15T04:36:30.586517Z",
          "iopub.status.busy": "2021-10-15T04:36:30.585764Z",
          "iopub.status.idle": "2021-10-15T04:36:30.591981Z",
          "shell.execute_reply": "2021-10-15T04:36:30.591551Z",
          "shell.execute_reply.started": "2021-10-15T04:34:07.120194Z"
        },
        "papermill": {
          "duration": 0.033534,
          "end_time": "2021-10-15T04:36:30.592104",
          "exception": false,
          "start_time": "2021-10-15T04:36:30.558570",
          "status": "completed"
        },
        "tags": [],
        "id": "ae8cdf59"
      },
      "source": [
        "model.compile(loss='categorical_crossentropy',optimizer='adam', metrics=['accuracy'])"
      ],
      "id": "ae8cdf59",
      "execution_count": null,
      "outputs": []
    },
    {
      "cell_type": "code",
      "metadata": {
        "execution": {
          "iopub.execute_input": "2021-10-15T04:36:30.635550Z",
          "iopub.status.busy": "2021-10-15T04:36:30.633974Z",
          "iopub.status.idle": "2021-10-15T04:36:30.638418Z",
          "shell.execute_reply": "2021-10-15T04:36:30.637786Z",
          "shell.execute_reply.started": "2021-10-15T04:34:15.212999Z"
        },
        "papermill": {
          "duration": 0.029704,
          "end_time": "2021-10-15T04:36:30.638556",
          "exception": false,
          "start_time": "2021-10-15T04:36:30.608852",
          "status": "completed"
        },
        "tags": [],
        "colab": {
          "base_uri": "https://localhost:8080/"
        },
        "id": "ce2268b4",
        "outputId": "705f75c6-1cf2-44c1-c365-86fc80fe77a1"
      },
      "source": [
        "model.summary()"
      ],
      "id": "ce2268b4",
      "execution_count": null,
      "outputs": [
        {
          "output_type": "stream",
          "name": "stdout",
          "text": [
            "Model: \"sequential\"\n",
            "_________________________________________________________________\n",
            "Layer (type)                 Output Shape              Param #   \n",
            "=================================================================\n",
            "embedding (Embedding)        (None, None, 128)         1947264   \n",
            "_________________________________________________________________\n",
            "bidirectional (Bidirectional (None, None, 256)         263168    \n",
            "_________________________________________________________________\n",
            "bidirectional_1 (Bidirection (None, 128)               164352    \n",
            "_________________________________________________________________\n",
            "dropout (Dropout)            (None, 128)               0         \n",
            "_________________________________________________________________\n",
            "dense (Dense)                (None, 64)                8256      \n",
            "_________________________________________________________________\n",
            "dropout_1 (Dropout)          (None, 64)                0         \n",
            "_________________________________________________________________\n",
            "dense_1 (Dense)              (None, 6)                 390       \n",
            "=================================================================\n",
            "Total params: 2,383,430\n",
            "Trainable params: 2,383,430\n",
            "Non-trainable params: 0\n",
            "_________________________________________________________________\n"
          ]
        }
      ]
    },
    {
      "cell_type": "code",
      "metadata": {
        "execution": {
          "iopub.execute_input": "2021-10-15T04:36:30.677704Z",
          "iopub.status.busy": "2021-10-15T04:36:30.677200Z",
          "iopub.status.idle": "2021-10-15T04:36:31.713749Z",
          "shell.execute_reply": "2021-10-15T04:36:31.714220Z",
          "shell.execute_reply.started": "2021-10-15T04:34:21.746317Z"
        },
        "papermill": {
          "duration": 1.057709,
          "end_time": "2021-10-15T04:36:31.714367",
          "exception": false,
          "start_time": "2021-10-15T04:36:30.656658",
          "status": "completed"
        },
        "tags": [],
        "colab": {
          "base_uri": "https://localhost:8080/",
          "height": 865
        },
        "id": "42a75525",
        "outputId": "b0353cb1-f004-4050-feb9-298ede566dca"
      },
      "source": [
        "tf.keras.utils.plot_model(model, to_file='model.png', show_shapes=True)"
      ],
      "id": "42a75525",
      "execution_count": null,
      "outputs": [
        {
          "output_type": "execute_result",
          "data": {
            "image/png": "[encoded data removed]",
            "text/plain": [
              "<IPython.core.display.Image object>"
            ]
          },
          "metadata": {},
          "execution_count": 18
        }
      ]
    },
    {
      "cell_type": "markdown",
      "metadata": {
        "id": "duqVm4GqS_qO"
      },
      "source": [
        "## Model training"
      ],
      "id": "duqVm4GqS_qO"
    },
    {
      "cell_type": "code",
      "metadata": {
        "execution": {
          "iopub.execute_input": "2021-10-15T04:36:31.758950Z",
          "iopub.status.busy": "2021-10-15T04:36:31.758427Z",
          "iopub.status.idle": "2021-10-15T04:38:26.070369Z",
          "shell.execute_reply": "2021-10-15T04:38:26.071119Z",
          "shell.execute_reply.started": "2021-10-15T04:34:27.362710Z"
        },
        "papermill": {
          "duration": 114.337502,
          "end_time": "2021-10-15T04:38:26.071305",
          "exception": false,
          "start_time": "2021-10-15T04:36:31.733803",
          "status": "completed"
        },
        "tags": [],
        "colab": {
          "base_uri": "https://localhost:8080/"
        },
        "id": "2edea8ff",
        "outputId": "f4ac724b-7bb3-4c47-abbd-04b5ac6f7221"
      },
      "source": [
        "history = model.fit(x=train_txt, y=y_train,epochs=5, batch_size=32, validation_data=(test_txt, y_test))"
      ],
      "id": "2edea8ff",
      "execution_count": null,
      "outputs": [
        {
          "output_type": "stream",
          "name": "stdout",
          "text": [
            "Epoch 1/5\n",
            "500/500 [==============================] - 86s 153ms/step - loss: 1.0692 - accuracy: 0.5719 - val_loss: 0.5342 - val_accuracy: 0.7965\n",
            "Epoch 2/5\n",
            "500/500 [==============================] - 75s 150ms/step - loss: 0.3831 - accuracy: 0.8683 - val_loss: 0.2726 - val_accuracy: 0.9030\n",
            "Epoch 3/5\n",
            "500/500 [==============================] - 75s 149ms/step - loss: 0.2002 - accuracy: 0.9279 - val_loss: 0.2060 - val_accuracy: 0.9165\n",
            "Epoch 4/5\n",
            "500/500 [==============================] - 75s 150ms/step - loss: 0.1292 - accuracy: 0.9522 - val_loss: 0.2256 - val_accuracy: 0.9140\n",
            "Epoch 5/5\n",
            "500/500 [==============================] - 75s 150ms/step - loss: 0.0990 - accuracy: 0.9622 - val_loss: 0.2299 - val_accuracy: 0.9150\n"
          ]
        }
      ]
    },
    {
      "cell_type": "code",
      "metadata": {
        "execution": {
          "iopub.execute_input": "2021-10-15T04:38:27.387739Z",
          "iopub.status.busy": "2021-10-15T04:38:27.386957Z",
          "iopub.status.idle": "2021-10-15T04:38:28.254646Z",
          "shell.execute_reply": "2021-10-15T04:38:28.254164Z",
          "shell.execute_reply.started": "2021-10-14T08:38:45.042406Z"
        },
        "papermill": {
          "duration": 1.723285,
          "end_time": "2021-10-15T04:38:28.254786",
          "exception": false,
          "start_time": "2021-10-15T04:38:26.531501",
          "status": "completed"
        },
        "tags": [],
        "colab": {
          "base_uri": "https://localhost:8080/"
        },
        "id": "1d4637d5",
        "outputId": "f109558e-c949-49d8-a05a-199f8415ca09"
      },
      "source": [
        "test_loss, test_acc = model.evaluate(test_txt, y_test)\n",
        "\n",
        "print('Test Loss: {}'.format(test_loss))\n",
        "print('Test Accuracy: {}'.format(test_acc))"
      ],
      "id": "1d4637d5",
      "execution_count": null,
      "outputs": [
        {
          "output_type": "stream",
          "name": "stdout",
          "text": [
            "63/63 [==============================] - 3s 51ms/step - loss: 0.2299 - accuracy: 0.9150\n",
            "Test Loss: 0.22988361120224\n",
            "Test Accuracy: 0.9150000214576721\n"
          ]
        }
      ]
    },
    {
      "cell_type": "code",
      "metadata": {
        "execution": {
          "iopub.execute_input": "2021-10-15T04:38:28.984178Z",
          "iopub.status.busy": "2021-10-15T04:38:28.983583Z",
          "iopub.status.idle": "2021-10-15T04:38:29.375588Z",
          "shell.execute_reply": "2021-10-15T04:38:29.375092Z"
        },
        "papermill": {
          "duration": 0.766264,
          "end_time": "2021-10-15T04:38:29.375729",
          "exception": false,
          "start_time": "2021-10-15T04:38:28.609465",
          "status": "completed"
        },
        "tags": [],
        "colab": {
          "base_uri": "https://localhost:8080/",
          "height": 295
        },
        "id": "526a1dc5",
        "outputId": "69af409f-b3c3-4c73-bc10-41c556445c8b"
      },
      "source": [
        "import matplotlib.pyplot as plt\n",
        "\n",
        "plt.plot(history.history['accuracy'])\n",
        "plt.plot(history.history['val_accuracy'])\n",
        "plt.title('model accuracy')\n",
        "plt.ylabel('accuracy')\n",
        "plt.xlabel('epoch')\n",
        "plt.legend(['train', 'test'], loc='upper left')\n",
        "plt.show()"
      ],
      "id": "526a1dc5",
      "execution_count": null,
      "outputs": [
        {
          "output_type": "display_data",
          "data": {
            "image/png": "[encoded data removed]",
            "text/plain": [
              "<Figure size 432x288 with 1 Axes>"
            ]
          },
          "metadata": {
            "needs_background": "light"
          }
        }
      ]
    },
    {
      "cell_type": "code",
      "metadata": {
        "execution": {
          "iopub.execute_input": "2021-10-15T04:38:30.132050Z",
          "iopub.status.busy": "2021-10-15T04:38:30.126562Z",
          "iopub.status.idle": "2021-10-15T04:38:30.310868Z",
          "shell.execute_reply": "2021-10-15T04:38:30.310460Z"
        },
        "papermill": {
          "duration": 0.58018,
          "end_time": "2021-10-15T04:38:30.310983",
          "exception": false,
          "start_time": "2021-10-15T04:38:29.730803",
          "status": "completed"
        },
        "tags": [],
        "colab": {
          "base_uri": "https://localhost:8080/",
          "height": 295
        },
        "id": "50c15b7d",
        "outputId": "cc264191-191b-4253-be44-48a4be0a8bbd"
      },
      "source": [
        "plt.plot(history.history['loss'])\n",
        "plt.plot(history.history['val_loss'])\n",
        "plt.title('model loss')\n",
        "plt.ylabel('loss')\n",
        "plt.xlabel('epoch')\n",
        "plt.legend(['train', 'test'], loc='upper right')\n",
        "plt.show()"
      ],
      "id": "50c15b7d",
      "execution_count": null,
      "outputs": [
        {
          "output_type": "display_data",
          "data": {
            "image/png": "[encoded data removed]",
            "text/plain": [
              "<Figure size 432x288 with 1 Axes>"
            ]
          },
          "metadata": {
            "needs_background": "light"
          }
        }
      ]
    },
    {
      "cell_type": "markdown",
      "metadata": {
        "id": "MLpbAmslTEzf"
      },
      "source": [
        "## Predictions"
      ],
      "id": "MLpbAmslTEzf"
    },
    {
      "cell_type": "code",
      "metadata": {
        "execution": {
          "iopub.execute_input": "2021-10-15T04:38:31.030073Z",
          "iopub.status.busy": "2021-10-15T04:38:31.029527Z",
          "iopub.status.idle": "2021-10-15T04:38:32.770330Z",
          "shell.execute_reply": "2021-10-15T04:38:32.769794Z",
          "shell.execute_reply.started": "2021-10-14T09:19:01.656728Z"
        },
        "papermill": {
          "duration": 2.106,
          "end_time": "2021-10-15T04:38:32.770470",
          "exception": false,
          "start_time": "2021-10-15T04:38:30.664470",
          "status": "completed"
        },
        "tags": [],
        "id": "fd762ab6"
      },
      "source": [
        "predict_test = np.argmax(model.predict(test_txt),axis=-1)"
      ],
      "id": "fd762ab6",
      "execution_count": null,
      "outputs": []
    },
    {
      "cell_type": "code",
      "metadata": {
        "execution": {
          "iopub.execute_input": "2021-10-15T04:38:33.537431Z",
          "iopub.status.busy": "2021-10-15T04:38:33.536841Z",
          "iopub.status.idle": "2021-10-15T04:38:33.540669Z",
          "shell.execute_reply": "2021-10-15T04:38:33.540251Z"
        },
        "papermill": {
          "duration": 0.411288,
          "end_time": "2021-10-15T04:38:33.540782",
          "exception": false,
          "start_time": "2021-10-15T04:38:33.129494",
          "status": "completed"
        },
        "tags": [],
        "id": "da927d81"
      },
      "source": [
        "# as per the dataset description, index value is mapped with the corresponding emotion in the list\n",
        "\n",
        "emotions = ['sadness','joy','love','anger','fear','surprise'] "
      ],
      "id": "da927d81",
      "execution_count": null,
      "outputs": []
    },
    {
      "cell_type": "code",
      "metadata": {
        "execution": {
          "iopub.execute_input": "2021-10-15T04:38:34.260053Z",
          "iopub.status.busy": "2021-10-15T04:38:34.259216Z",
          "iopub.status.idle": "2021-10-15T04:38:34.261743Z",
          "shell.execute_reply": "2021-10-15T04:38:34.261344Z",
          "shell.execute_reply.started": "2021-10-14T09:24:07.769937Z"
        },
        "papermill": {
          "duration": 0.364554,
          "end_time": "2021-10-15T04:38:34.261852",
          "exception": false,
          "start_time": "2021-10-15T04:38:33.897298",
          "status": "completed"
        },
        "tags": [],
        "id": "da065bc3"
      },
      "source": [
        "def predict(n):    \n",
        "    print(test['text'][n])\n",
        "    print(\"Actual label: \",emotions[test['label'][n]])\n",
        "    print(\"Predict label: \",emotions[predict_test[n]]) \n",
        "    "
      ],
      "id": "da065bc3",
      "execution_count": null,
      "outputs": []
    },
    {
      "cell_type": "code",
      "metadata": {
        "execution": {
          "iopub.execute_input": "2021-10-15T04:38:34.991786Z",
          "iopub.status.busy": "2021-10-15T04:38:34.990878Z",
          "iopub.status.idle": "2021-10-15T04:38:35.004441Z",
          "shell.execute_reply": "2021-10-15T04:38:35.003979Z",
          "shell.execute_reply.started": "2021-10-14T09:35:21.169174Z"
        },
        "papermill": {
          "duration": 0.386871,
          "end_time": "2021-10-15T04:38:35.004556",
          "exception": false,
          "start_time": "2021-10-15T04:38:34.617685",
          "status": "completed"
        },
        "tags": [],
        "colab": {
          "base_uri": "https://localhost:8080/"
        },
        "id": "eba9e228",
        "outputId": "f7c0af2d-a36b-47ba-d08a-b31c8ef7ce78"
      },
      "source": [
        "n = 15\n",
        "p = list(np.random.randint(low = 0, high = 2000, size = n))\n",
        "for i in p:\n",
        "    predict(i)\n",
        "    print(\"-------------------------------------------------------------------------------------------\")"
      ],
      "id": "eba9e228",
      "execution_count": null,
      "outputs": [
        {
          "output_type": "stream",
          "name": "stdout",
          "text": [
            "i did a body scan and realized that everything was feeling amazing\n",
            "Actual label:  surprise\n",
            "Predict label:  surprise\n",
            "-------------------------------------------------------------------------------------------\n",
            "im in that last bit of sleep before i get up in the morning i feel like that emotional energy just waits for me\n",
            "Actual label:  sadness\n",
            "Predict label:  sadness\n",
            "-------------------------------------------------------------------------------------------\n",
            "i can t say for certain why but it actually makes me feel amused and you can be sure it s not just me because other people from our offices told me they have the same a href http news\n",
            "Actual label:  joy\n",
            "Predict label:  joy\n",
            "-------------------------------------------------------------------------------------------\n",
            "i feel as uncomfortable now as if i were carrying a volvo but my belly is nice and tidy and looks not unsimilar to the beer gut my dad has nice and hard and round and i waddle just like he does\n",
            "Actual label:  fear\n",
            "Predict label:  fear\n",
            "-------------------------------------------------------------------------------------------\n",
            "i feel terrified because my landlord has not changed our locks yet\n",
            "Actual label:  fear\n",
            "Predict label:  fear\n",
            "-------------------------------------------------------------------------------------------\n",
            "i feel that he is gazing me and giving a naughty smile encouraging me to study more\n",
            "Actual label:  love\n",
            "Predict label:  love\n",
            "-------------------------------------------------------------------------------------------\n",
            "i had the feeling that it might not have been taken as the truthful and sincere compliment it would have been\n",
            "Actual label:  joy\n",
            "Predict label:  joy\n",
            "-------------------------------------------------------------------------------------------\n",
            "i feel very honored in how much he has shared and expressed with me and that he trusts me\n",
            "Actual label:  joy\n",
            "Predict label:  joy\n",
            "-------------------------------------------------------------------------------------------\n",
            "i am feeling so appreciative today\n",
            "Actual label:  joy\n",
            "Predict label:  joy\n",
            "-------------------------------------------------------------------------------------------\n",
            "i just finished watching a korean drama secret garden omg and am feeling the way girls do after such shows a mixture of hope and a little tug of truth that says those romantic gestures only exist in films\n",
            "Actual label:  love\n",
            "Predict label:  love\n",
            "-------------------------------------------------------------------------------------------\n",
            "i couldnt help feeling for him and this awful predicament he lives with on a daily and nightly basis and i was just so glad that once bel started to see the light he stuck it out and stood by daniel whilst no one else did including his family who im afraid i got really disgusted with\n",
            "Actual label:  sadness\n",
            "Predict label:  anger\n",
            "-------------------------------------------------------------------------------------------\n",
            "i feel inside cause life is like a game sometimes but then you came around me the walls just disappeared nothing to surround me and keep me from my fears im unprotected see how ive opened up youve made me trust\n",
            "Actual label:  fear\n",
            "Predict label:  fear\n",
            "-------------------------------------------------------------------------------------------\n",
            "i feel unprotected even while travelling alone\n",
            "Actual label:  fear\n",
            "Predict label:  fear\n",
            "-------------------------------------------------------------------------------------------\n",
            "i feel so much boring with my straight hair for all over years haha\n",
            "Actual label:  sadness\n",
            "Predict label:  sadness\n",
            "-------------------------------------------------------------------------------------------\n",
            "i either have to feel submissive and as such agree to taking pain for someone or there has to not be an option presented\n",
            "Actual label:  sadness\n",
            "Predict label:  sadness\n",
            "-------------------------------------------------------------------------------------------\n"
          ]
        }
      ]
    },
    {
      "cell_type": "code",
      "metadata": {
        "execution": {
          "iopub.execute_input": "2021-10-15T04:38:35.728305Z",
          "iopub.status.busy": "2021-10-15T04:38:35.727433Z",
          "iopub.status.idle": "2021-10-15T04:38:35.729981Z",
          "shell.execute_reply": "2021-10-15T04:38:35.729550Z",
          "shell.execute_reply.started": "2021-10-14T09:39:30.938306Z"
        },
        "papermill": {
          "duration": 0.366054,
          "end_time": "2021-10-15T04:38:35.730128",
          "exception": false,
          "start_time": "2021-10-15T04:38:35.364074",
          "status": "completed"
        },
        "tags": [],
        "id": "77732bae"
      },
      "source": [
        "def predict_text(test):\n",
        "    txt = tokenizer.texts_to_sequences([test])\n",
        "    txt = pad_sequences(txt,maxlen=128)\n",
        "    pred = np.argmax(model.predict(txt))\n",
        "    \n",
        "    return emotions[pred]"
      ],
      "id": "77732bae",
      "execution_count": null,
      "outputs": []
    },
    {
      "cell_type": "code",
      "metadata": {
        "colab": {
          "base_uri": "https://localhost:8080/"
        },
        "id": "em_htR70SFsT",
        "outputId": "4482b73a-e979-4588-fefa-e21363837026"
      },
      "source": [
        "txt = '''Everyone keeps telling me that time heals all wounds, but no one can tell me what I’m supposed to do right now. \n",
        "Right now I can’t sleep. It’s right now that I can’t eat. Right now I still hear his voice and sense his presence \n",
        "even though I know he’s not here. Right now all I seem to do is cry. I know all about time and wounds healing, \n",
        "but even if I had all the time in the world, I still don’t know what to do with all this hurt right now.'''\n",
        "\n",
        "print(\"Predicted emotion: \", predict_text(txt))"
      ],
      "id": "em_htR70SFsT",
      "execution_count": null,
      "outputs": [
        {
          "output_type": "stream",
          "name": "stdout",
          "text": [
            "Predicted emotion:  sadness\n"
          ]
        }
      ]
    },
    {
      "cell_type": "code",
      "metadata": {
        "colab": {
          "base_uri": "https://localhost:8080/"
        },
        "id": "5Y73-cQiUsBP",
        "outputId": "976d947b-e319-4e91-8f13-cacd0d86c144"
      },
      "source": [
        "txt = '''Giving away something that was of great benefit or of requirement to the receiver definitely \n",
        "brings in a feel of happiness and fulfillment. No matter whatever situation you may be in, when you pass \n",
        "out things that are of great help and happiness to others, you too feel the same.'''\n",
        "\n",
        "print(\"Predicted emotion: \", predict_text(txt))"
      ],
      "id": "5Y73-cQiUsBP",
      "execution_count": null,
      "outputs": [
        {
          "output_type": "stream",
          "name": "stdout",
          "text": [
            "Predicted emotion:  joy\n"
          ]
        }
      ]
    },
    {
      "cell_type": "code",
      "metadata": {
        "colab": {
          "base_uri": "https://localhost:8080/"
        },
        "id": "fSsIpUQFVs-R",
        "outputId": "de29e47f-823e-4410-dd21-5ac1343bb565"
      },
      "source": [
        "txt = '''Dogs are friendly and they love human companionship. Whose ego would not be gratified at the sight of \n",
        "a happy dog who can't wait to greet you at the end of a hard day ? Your dog waits for you by the door, face smiling, \n",
        "mouth open and tail wagging, ready to dote on you, his best friend in the world.'''\n",
        "\n",
        "print(\"Predicted emotion: \", predict_text(txt))"
      ],
      "id": "fSsIpUQFVs-R",
      "execution_count": null,
      "outputs": [
        {
          "output_type": "stream",
          "name": "stdout",
          "text": [
            "Predicted emotion:  love\n"
          ]
        }
      ]
    },
    {
      "cell_type": "code",
      "metadata": {
        "colab": {
          "base_uri": "https://localhost:8080/"
        },
        "id": "WFpTB4GzWBl6",
        "outputId": "06dc4c5c-9d72-4b63-b7aa-47730dd637ce"
      },
      "source": [
        "txt = '''He well remembered the last interview he had had with the old prince at the time of the enrollment, \n",
        "when in reply to an invitation to dinner he had had to listen to an angry \n",
        "reprimand for not having provided his full quota of men.'''\n",
        "\n",
        "print(\"Predicted emotion: \", predict_text(txt))"
      ],
      "id": "WFpTB4GzWBl6",
      "execution_count": null,
      "outputs": [
        {
          "output_type": "stream",
          "name": "stdout",
          "text": [
            "Predicted emotion:  anger\n"
          ]
        }
      ]
    },
    {
      "cell_type": "code",
      "metadata": {
        "colab": {
          "base_uri": "https://localhost:8080/"
        },
        "id": "NEuTllEZXL6h",
        "outputId": "ced7a924-6940-4304-b785-11b4c8ad0b6d"
      },
      "source": [
        "txt = '''My childhood fear at the time unfortunately was scary movies, heights, and being afraid of the dark. \n",
        "As a young child, mainly around the age of 4 to 7 years old, \n",
        "screams and loud stressful noises wasn’t generally my favorite amusement. '''\n",
        "\n",
        "print(\"Predicted emotion: \", predict_text(txt))"
      ],
      "id": "NEuTllEZXL6h",
      "execution_count": null,
      "outputs": [
        {
          "output_type": "stream",
          "name": "stdout",
          "text": [
            "Predicted emotion:  fear\n"
          ]
        }
      ]
    },
    {
      "cell_type": "code",
      "metadata": {
        "colab": {
          "base_uri": "https://localhost:8080/"
        },
        "id": "B7KKlvt5X8Ub",
        "outputId": "93e3c170-1103-405e-9015-e7f1ebbcc225"
      },
      "source": [
        "txt = '''In my birthday my father gave me a pleasant surprise that is cycle. \n",
        "The sudden surpise of my father is shocking to me. I was very happy about what my father had gave me a nice gift on my birthday and \n",
        "my friends also wished me.'''\n",
        "\n",
        "print(\"Predicted emotion: \", predict_text(txt))"
      ],
      "id": "B7KKlvt5X8Ub",
      "execution_count": null,
      "outputs": [
        {
          "output_type": "stream",
          "name": "stdout",
          "text": [
            "Predicted emotion:  joy\n"
          ]
        }
      ]
    }
  ]
}